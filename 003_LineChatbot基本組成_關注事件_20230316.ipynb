{
  "nbformat": 4,
  "nbformat_minor": 0,
  "metadata": {
    "colab": {
      "name": "003_LineChatbot基本組成_關注事件.ipynb",
      "provenance": []
    },
    "kernelspec": {
      "display_name": "Python 3",
      "name": "python3"
    }
  },
  "cells": [
    {
      "cell_type": "code",
      "metadata": {
        "id": "ylkDvkEfEZIw"
      },
      "source": [
        "'''\n",
        "\n",
        "掛載Google硬碟\n",
        "安裝套件\n",
        "引用套件\n",
        "APP應用準備\n",
        "消息準備\n",
        "handler執行方法設計\n",
        "啟動應用\n",
        "\n",
        "'''"
      ],
      "execution_count": null,
      "outputs": []
    },
    {
      "cell_type": "code",
      "metadata": {
        "id": "2mDqhB78Fxp6",
        "colab": {
          "base_uri": "https://localhost:8080/"
        },
        "outputId": "7597bc27-007e-4466-c2ff-576f24b0fc4b"
      },
      "source": [
        "'''\n",
        "資料 mapping 至google drive\n",
        "把資料寫在/content/drive\n",
        "即可保存在 google drive內\n",
        ">> 為什麼要保存在drive?\n",
        "因為Colab會把資料清空，在開發階段，會建議掛載google drive, 讓資料能夠被保存下來\n",
        "!! 只有在開發階段使用，正式環境存東西，不應存在這\n",
        "'''\n",
        "# 掛載google drive\n",
        "from google.colab import drive\n",
        "drive.mount('/content/drive')"
      ],
      "execution_count": 1,
      "outputs": [
        {
          "output_type": "stream",
          "name": "stdout",
          "text": [
            "Mounted at /content/drive\n"
          ]
        }
      ]
    },
    {
      "cell_type": "code",
      "metadata": {
        "id": "4iGRs1oYD6Ca"
      },
      "source": [
        "'''\n",
        "流程解析\n",
        "1. 前置作業：引用套件\n",
        "2. 建立app主邏輯(01.http.ipynb)\n",
        "3. 生成傳給用戶的消息\n",
        "4. 設置：後續收到的消息，要怎麼處理\n",
        "5. 運行app\n",
        "'''\n"
      ],
      "execution_count": null,
      "outputs": []
    },
    {
      "cell_type": "code",
      "metadata": {
        "id": "JyhJqq8KImyR",
        "colab": {
          "base_uri": "https://localhost:8080/"
        },
        "outputId": "55708f95-d450-4b9b-ef09-5a867e4df7ac"
      },
      "source": [
        "# 安裝套件\n",
        "# !pip install line-bot-sdk flask flask-ngrok\n",
        "# !pip install pyngrok\n",
        "\n",
        "!curl -L https://bin.equinox.io/c/4VmDzA7iaHb/ngrok-stable-linux-amd64.zip -o ngrok.zip && unzip ngrok.zip && rm ngrok.zip\n",
        "!./ngrok authtoken 2Miom0KAoRAXk9dAQyUBIBXEQg7_7Bp4cz6ti7QVh5ayzZJNQ\n",
        "#----\n",
        "# 測試\n",
        "# ngrok成功，顯示：Authtoken saved to configuration file: /root/.ngrok2/ngrok.yml"
      ],
      "execution_count": 7,
      "outputs": [
        {
          "output_type": "stream",
          "name": "stdout",
          "text": [
            "  % Total    % Received % Xferd  Average Speed   Time    Time     Time  Current\n",
            "                                 Dload  Upload   Total   Spent    Left  Speed\n",
            "100 13.2M  100 13.2M    0     0  25.8M      0 --:--:-- --:--:-- --:--:-- 25.8M\n",
            "Archive:  ngrok.zip\n",
            "  inflating: ngrok                   \n",
            "Authtoken saved to configuration file: /root/.ngrok2/ngrok.yml\n"
          ]
        }
      ]
    },
    {
      "cell_type": "code",
      "metadata": {
        "id": "rJDNE2TYEaYA"
      },
      "source": [
        "'''\n",
        "引用套件\n",
        "'''\n",
        "\n",
        "# 引用Web Server套件\n",
        "from flask import Flask, request, abort, jsonify\n",
        "\n",
        "# 載入json處理套件\n",
        "import json\n",
        "\n",
        "# 外部連結自動生成套件\n",
        "from flask_ngrok import run_with_ngrok\n",
        "\n",
        "# 從linebot 套件包裡引用 LineBotApi 與 WebhookHandler 類別\n",
        "from linebot import (\n",
        "    LineBotApi, WebhookHandler\n",
        ")\n",
        "\n",
        "# 引用無效簽章錯誤\n",
        "from linebot.exceptions import (\n",
        "    InvalidSignatureError\n",
        ")\n"
      ],
      "execution_count": 8,
      "outputs": []
    },
    {
      "cell_type": "code",
      "metadata": {
        "id": "XssY97Y9Eahe"
      },
      "source": [
        "'''\n",
        "建置主程序app\n",
        "建置handler與 line_bot_api\n",
        "# Step1. 準備好app\n",
        "# Step2. 準備handler, 用來接收Line傳來的一切事物，順便做驗證，就像小秘書過濾信件\n",
        "# Step3. 準備line_bot_api, 有些業務要跟Line溝通，都會透過line_bot_api回信、取個資\n",
        "'''\n",
        "\n",
        "# 設定Server啟用細節\n",
        "app = Flask(__name__,static_url_path = \"/material\" , static_folder = \"./material/\")\n",
        "#\n",
        "run_with_ngrok(app)\n",
        "\n",
        "# 生成實體物件\n",
        "line_bot_api = LineBotApi(\"svZ59+2NW9n9kRK6F5Dprw7lq5zr/x0gYftKxq7eWD3yXFD+qob9Dr3vPKbVj7UK2K2gx/Ne2bEhedLvCnuOw8mfOFK7jTU+t0TD3pRYjLX0q4Mx+sLtOjCH1iER6AbAdS3P4KncJl3tpZcx8RGIggdB04t89/1O/w1cDnyilFU=\")\n",
        "handler = WebhookHandler(\"d8786afd5abc6a8efb667ab3dae71146\")"
      ],
      "execution_count": 9,
      "outputs": []
    },
    {
      "cell_type": "code",
      "metadata": {
        "id": "jyIFMBi4EvTl"
      },
      "source": [
        "'''\n",
        "建置主程序的API入口\n",
        "  接受Line傳過來的消息\n",
        "  並取出消息內容\n",
        "  將消息內容存在google drive的檔案內\n",
        "  並請handler 進行消息驗證與轉發\n",
        "'''\n",
        "\n",
        "# 啟動server對外接口，使Line能丟消息進來\n",
        "@app.route(\"/\", methods=['POST'])\n",
        "def callback():\n",
        "    # get X-Line-Signature header value (LINE 加密簽章)\n",
        "    signature = request.headers['X-Line-Signature']\n",
        "\n",
        "    # get request body as text (用戶傳來的內容)\n",
        "    body = request.get_data(as_text=True)\n",
        "    print(body)\n",
        "\n",
        "    # 記錄用戶log # 存在google drive上，取名為ai-event.log\n",
        "    f = open(\"/content/drive/MyDrive/ai-event.log\", \"a\")\n",
        "    f.write(body)\n",
        "    f.close()\n",
        "\n",
        "    # handle webhook body\n",
        "    # 把消息交給handler(小秘書)做驗證，會依照不同Event, 做不同處理\n",
        "    try:\n",
        "        handler.handle(body, signature)\n",
        "    except InvalidSignatureError:\n",
        "        abort(400)\n",
        "\n",
        "    return 'OK'"
      ],
      "execution_count": null,
      "outputs": []
    },
    {
      "cell_type": "code",
      "metadata": {
        "id": "YhyKB6njFHJC"
      },
      "source": [
        "\n",
        "'''\n",
        "\n",
        "撰寫用戶關注時，我們要處理的商業邏輯\n",
        "\n",
        "1. 取得用戶個資，並存回伺服器\n",
        "2. 回應用戶，歡迎用的文字消息\n",
        "\n",
        "'''\n",
        "\n",
        "\n",
        "# 載入Follow事件\n",
        "from linebot.models.events import (\n",
        "    FollowEvent\n",
        ")\n",
        "\n",
        "from linebot.models import(\n",
        "    TextSendMessage, ImageSendMessage\n",
        ")\n",
        "\n",
        "# 告知handler，如果收到FollowEvent，則做下面的方法處理\n",
        "@handler.add(FollowEvent)\n",
        "def reply_text_and_get_user_profile(event):\n",
        "    \n",
        "    # 取出消息內User的資料(用line_bot_api跟user溝通，並調用get_profile取得個資)\n",
        "    # event = 每次傳來的消息; source = 來源; user_id = 發消息的用戶id\n",
        "    user_profile = line_bot_api.get_profile(event.source.user_id)\n",
        "        \n",
        "     # 將用戶資訊存在檔案內, 存在google drive內，users.txt的檔案內\n",
        "    with open(\"/content/drive/MyDrive/users.txt\", \"a\") as myfile:\n",
        "        myfile.write(json.dumps(vars(user_profile),sort_keys=True))\n",
        "        myfile.write('\\n')\n",
        "    \n",
        "    # LINE bot回覆文字消息與圖片消息\n",
        "    # line_bot_api >> LINE平台 >> user\n",
        "    # [TextSendMessage(<回應文字>)]\n",
        "    line_bot_api.reply_message(\n",
        "        event.reply_token,\n",
        "        [TextSendMessage('安安，你的個資已被我紀錄了')]\n",
        "    )"
      ],
      "execution_count": null,
      "outputs": []
    },
    {
      "cell_type": "code",
      "metadata": {
        "colab": {
          "background_save": true
        },
        "id": "NVkYb65fHY9W"
      },
      "source": [
        "# 運行主程序\n",
        "app.run()"
      ],
      "execution_count": null,
      "outputs": []
    }
  ]
}