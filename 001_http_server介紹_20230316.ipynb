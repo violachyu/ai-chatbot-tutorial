{
  "nbformat": 4,
  "nbformat_minor": 0,
  "metadata": {
    "colab": {
      "provenance": [],
      "include_colab_link": true
    },
    "kernelspec": {
      "name": "python3",
      "display_name": "Python 3"
    }
  },
  "cells": [
    {
      "cell_type": "markdown",
      "metadata": {
        "id": "view-in-github",
        "colab_type": "text"
      },
      "source": [
        "<a href=\"https://colab.research.google.com/github/violachyu/ai-chatbot-tutorial/blob/main/001_http_server%E4%BB%8B%E7%B4%B9_20230316.ipynb\" target=\"_parent\"><img src=\"https://colab.research.google.com/assets/colab-badge.svg\" alt=\"Open In Colab\"/></a>"
      ]
    },
    {
      "cell_type": "markdown",
      "metadata": {
        "id": "UMSn0hQEqmMW"
      },
      "source": [
        "人類世界是一個龐大的訊息系統，每個人都是訊息的傳入與傳出點\n",
        "\n",
        "有些人眉目傳情\n",
        "\n",
        "有些人悄然攜手\n",
        "\n",
        "總而言之，有很多傳遞方式"
      ]
    },
    {
      "cell_type": "code",
      "metadata": {
        "id": "JSnLGIcEqZ04"
      },
      "source": [],
      "execution_count": null,
      "outputs": []
    },
    {
      "cell_type": "markdown",
      "metadata": {
        "id": "FSsnOYzxrQAG"
      },
      "source": [
        "資訊世界也差不多，每個電腦都可以是訊息的傳入與傳出點\n",
        "\n",
        "有的時候，我們想收發email，會用smtp\n",
        "\n",
        "有的時候，想跟別人共享檔案，會用ftp\n",
        "\n",
        "而最常見的一種方式，是http，常見的網站協定"
      ]
    },
    {
      "cell_type": "code",
      "metadata": {
        "id": "xuB6ROBQq5Rr"
      },
      "source": [],
      "execution_count": null,
      "outputs": []
    },
    {
      "cell_type": "markdown",
      "metadata": {
        "id": "GpnIVLxMrvOl"
      },
      "source": [
        "每一種程式語言都能夠用套件，去表達http協定\n",
        "\n",
        "python語言最常見的一種套件，叫做flask\n",
        "\n",
        "現在我們就來體驗一下吧"
      ]
    },
    {
      "cell_type": "code",
      "metadata": {
        "id": "QyiX25M9r96i"
      },
      "source": [],
      "execution_count": null,
      "outputs": []
    },
    {
      "cell_type": "markdown",
      "metadata": {
        "id": "9j3rjoLAr-CH"
      },
      "source": [
        "體驗流程如下，但凡寫程式的流程似乎就這樣了\n",
        "\n",
        "安裝套件\n",
        "\n",
        "引用套件\n",
        "\n",
        "建置主程序\n",
        "\n",
        "為主程序製作交互API接口\n",
        "\n",
        "啟動主程序"
      ]
    },
    {
      "cell_type": "code",
      "metadata": {
        "id": "Zlxxf_XHsrQW",
        "colab": {
          "base_uri": "https://localhost:8080/"
        },
        "outputId": "09b817f7-e4f8-43b9-d903-5898809d5edb"
      },
      "source": [
        "'''\n",
        "安裝套件\n",
        "'''\n",
        "# !pip install line-bot-sdk flask flask-ngrok\n",
        "# !pip install pyngrok\n",
        "!curl -L https://bin.equinox.io/c/4VmDzA7iaHb/ngrok-stable-linux-amd64.zip -o ngrok.zip && unzip ngrok.zip && rm ngrok.zip\n",
        "!./ngrok authtoken 2Miom0KAoRAXk9dAQyUBIBXEQg7_7Bp4cz6ti7QVh5ayzZJNQ\n",
        "#----\n",
        "# 測試\n",
        "# ngrok成功，顯示：Authtoken saved to configuration file: /root/.ngrok2/ngrok.yml"
      ],
      "execution_count": 9,
      "outputs": [
        {
          "output_type": "stream",
          "name": "stdout",
          "text": [
            "  % Total    % Received % Xferd  Average Speed   Time    Time     Time  Current\n",
            "                                 Dload  Upload   Total   Spent    Left  Speed\n",
            "\r  0     0    0     0    0     0      0      0 --:--:-- --:--:-- --:--:--     0\r100 13.2M  100 13.2M    0     0  56.7M      0 --:--:-- --:--:-- --:--:-- 56.7M\n",
            "Archive:  ngrok.zip\n",
            "  inflating: ngrok                   \n",
            "Authtoken saved to configuration file: /root/.ngrok2/ngrok.yml\n"
          ]
        }
      ]
    },
    {
      "cell_type": "code",
      "metadata": {
        "id": "QpiUk0oqs2xA"
      },
      "source": [
        "'''\n",
        "引用套件\n",
        "'''\n",
        "\n",
        "# 引用flask Web Server套件\n",
        "from flask import Flask, request, abort, jsonify\n",
        "\n",
        "# 載入json處理套件\n",
        "import json\n",
        "\n",
        "# 外部連結自動生成套件\n",
        "from flask_ngrok import run_with_ngrok\n"
      ],
      "execution_count": 10,
      "outputs": []
    },
    {
      "cell_type": "code",
      "metadata": {
        "id": "qIz_GY8JtGtR"
      },
      "source": [
        "'''\n",
        "建置主程序\n",
        "'''\n",
        "\n",
        "# 設定Server啟用細節\n",
        "# Flask:做 http server的套件\n",
        "# 如果要找得到照片，可以建立一個material資料夾，把照片放入\n",
        "app = Flask(__name__,static_url_path = \"/material\" , static_folder = \"./material/\")\n",
        "\n",
        "# 臨時建立一個https url, 實際開發時要將正式環境上GCP, 不會用到這行\n",
        "run_with_ngrok(app)"
      ],
      "execution_count": 3,
      "outputs": []
    },
    {
      "cell_type": "code",
      "metadata": {
        "id": "PyxwcE731IRD"
      },
      "source": [
        "'''\n",
        "\n",
        "為主程序創造多個API接口\n",
        "\n",
        "想像思路\n",
        "當外面的封包進來的時候，轉流到這個方法\n",
        "\n",
        "'''\n",
        "# 啟動主程序的API接口，最簡單版本\n",
        "# 用瀏覽器訪問 xxx.ngrok.xxx => 導引到此方法\n",
        "@app.route(\"/\", methods=['GET'])\n",
        "def callback():\n",
        "     \n",
        "    return 'Hello World'"
      ],
      "execution_count": 4,
      "outputs": []
    },
    {
      "cell_type": "code",
      "metadata": {
        "id": "UlZwRkCS1pmY"
      },
      "source": [
        "# 第二隻接口，\n",
        "\n",
        "# 啟動主程序的API接口，名為calculate，計算機功能，剖析v1參數與v2參數\n",
        "# 訪問xxx.ngrok.xxx/calculate?v1=1&v2=2時進入點\n",
        "@app.route(\"/calculate\", methods=['GET'])\n",
        "def calculate():\n",
        "    # parse query string\n",
        "    first_parameter = int(request.args.get('v1'))\n",
        "    second_parameter = int(request.args.get('v2'))\n",
        "    return str(first_parameter+second_parameter)"
      ],
      "execution_count": 5,
      "outputs": []
    },
    {
      "cell_type": "code",
      "metadata": {
        "id": "htiCzxi82fN3",
        "outputId": "64db4043-cd0f-4b7b-9bb4-cb4e25bd8bc2",
        "colab": {
          "base_uri": "https://localhost:8080/"
        }
      },
      "source": [
        "# 啟動主程序\n",
        "# 要預載的方法，都要寫在app.run()上面\n",
        "app.run()"
      ],
      "execution_count": 6,
      "outputs": [
        {
          "output_type": "stream",
          "name": "stdout",
          "text": [
            " * Serving Flask app '__main__'\n",
            " * Debug mode: off\n"
          ]
        },
        {
          "output_type": "stream",
          "name": "stderr",
          "text": [
            "INFO:werkzeug:\u001b[31m\u001b[1mWARNING: This is a development server. Do not use it in a production deployment. Use a production WSGI server instead.\u001b[0m\n",
            " * Running on http://127.0.0.1:5000\n",
            "INFO:werkzeug:\u001b[33mPress CTRL+C to quit\u001b[0m\n"
          ]
        },
        {
          "output_type": "stream",
          "name": "stdout",
          "text": [
            " * Running on http://29de-34-150-157-127.ngrok.io\n",
            " * Traffic stats available on http://127.0.0.1:4040\n"
          ]
        }
      ]
    },
    {
      "cell_type": "code",
      "metadata": {
        "id": "A2icnYNS6Oqb"
      },
      "source": [
        "# 下面無法運行，因為app.run()會持續運行"
      ],
      "execution_count": 7,
      "outputs": []
    }
  ]
}